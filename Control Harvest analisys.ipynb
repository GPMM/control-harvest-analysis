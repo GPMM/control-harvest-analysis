{
 "cells": [
  {
   "cell_type": "code",
   "execution_count": 19,
   "metadata": {},
   "outputs": [
    {
     "data": {
      "text/html": [
       "<table>\n",
       "<thead><tr><th scope=col>id</th><th scope=col>session</th><th scope=col>type</th><th scope=col>agent</th><th scope=col>time</th><th scope=col>attr1</th><th scope=col>attr2</th><th scope=col>attr3</th></tr></thead>\n",
       "<tbody>\n",
       "\t<tr><td>21898          </td><td>194            </td><td>plantar        </td><td>grama          </td><td> 3             </td><td>252            </td><td>225            </td><td>325            </td></tr>\n",
       "\t<tr><td>21899          </td><td>194            </td><td>plantar        </td><td>grama          </td><td> 5             </td><td>254            </td><td>275            </td><td>327            </td></tr>\n",
       "\t<tr><td>21900          </td><td>194            </td><td>plantar        </td><td>grama          </td><td> 7             </td><td>256            </td><td>325            </td><td>326            </td></tr>\n",
       "\t<tr><td>21901          </td><td>194            </td><td>desenvolvimento</td><td>grama          </td><td>10             </td><td>257            </td><td>225            </td><td>325            </td></tr>\n",
       "\t<tr><td>21902          </td><td>194            </td><td>plantar        </td><td>grama          </td><td> 9             </td><td>258            </td><td>375            </td><td>326            </td></tr>\n",
       "\t<tr><td>21903          </td><td>194            </td><td>desenvolvimento</td><td>grama          </td><td>12             </td><td>259            </td><td>275            </td><td>327            </td></tr>\n",
       "</tbody>\n",
       "</table>\n"
      ],
      "text/latex": [
       "\\begin{tabular}{r|llllllll}\n",
       " id & session & type & agent & time & attr1 & attr2 & attr3\\\\\n",
       "\\hline\n",
       "\t 21898           & 194             & plantar         & grama           &  3              & 252             & 225             & 325            \\\\\n",
       "\t 21899           & 194             & plantar         & grama           &  5              & 254             & 275             & 327            \\\\\n",
       "\t 21900           & 194             & plantar         & grama           &  7              & 256             & 325             & 326            \\\\\n",
       "\t 21901           & 194             & desenvolvimento & grama           & 10              & 257             & 225             & 325            \\\\\n",
       "\t 21902           & 194             & plantar         & grama           &  9              & 258             & 375             & 326            \\\\\n",
       "\t 21903           & 194             & desenvolvimento & grama           & 12              & 259             & 275             & 327            \\\\\n",
       "\\end{tabular}\n"
      ],
      "text/markdown": [
       "\n",
       "| id | session | type | agent | time | attr1 | attr2 | attr3 |\n",
       "|---|---|---|---|---|---|---|---|\n",
       "| 21898           | 194             | plantar         | grama           |  3              | 252             | 225             | 325             |\n",
       "| 21899           | 194             | plantar         | grama           |  5              | 254             | 275             | 327             |\n",
       "| 21900           | 194             | plantar         | grama           |  7              | 256             | 325             | 326             |\n",
       "| 21901           | 194             | desenvolvimento | grama           | 10              | 257             | 225             | 325             |\n",
       "| 21902           | 194             | plantar         | grama           |  9              | 258             | 375             | 326             |\n",
       "| 21903           | 194             | desenvolvimento | grama           | 12              | 259             | 275             | 327             |\n",
       "\n"
      ],
      "text/plain": [
       "  id    session type            agent time attr1 attr2 attr3\n",
       "1 21898 194     plantar         grama  3   252   225   325  \n",
       "2 21899 194     plantar         grama  5   254   275   327  \n",
       "3 21900 194     plantar         grama  7   256   325   326  \n",
       "4 21901 194     desenvolvimento grama 10   257   225   325  \n",
       "5 21902 194     plantar         grama  9   258   375   326  \n",
       "6 21903 194     desenvolvimento grama 12   259   275   327  "
      ]
     },
     "metadata": {},
     "output_type": "display_data"
    },
    {
     "data": {
      "text/html": [
       "315401"
      ],
      "text/latex": [
       "315401"
      ],
      "text/markdown": [
       "315401"
      ],
      "text/plain": [
       "[1] 315401"
      ]
     },
     "metadata": {},
     "output_type": "display_data"
    },
    {
     "data": {
      "text/html": [
       "8"
      ],
      "text/latex": [
       "8"
      ],
      "text/markdown": [
       "8"
      ],
      "text/plain": [
       "[1] 8"
      ]
     },
     "metadata": {},
     "output_type": "display_data"
    }
   ],
   "source": [
    "#carregando bibliotecas\n",
    "library(psych)\n",
    "library(reshape)\n",
    "library(dplyr)\n",
    "library(RColorBrewer)\n",
    "library(gridExtra)\n",
    "#library(ggplot2)\n",
    "source(\"https://raw.githubusercontent.com/eogasawara/mylibrary/master/myGraphic.R\")\n",
    "source(\"https://raw.githubusercontent.com/eogasawara/mylibrary/master/myClustering.R\")\n",
    "\n",
    "#carregando dados\n",
    "dados <-read.csv(\"C:/Users/Flávio/Desktop/Mestrado/Projeto (Using provenance to evaluate learning in educational games)/event.csv\", header = TRUE, sep = \",\")\n",
    "head(dados)\n",
    "nrow(dados)\n",
    "ncol(dados)"
   ]
  },
  {
   "cell_type": "code",
   "execution_count": 20,
   "metadata": {},
   "outputs": [
    {
     "data": {
      "text/plain": [
       "    session                        type               agent       \n",
       " Min.   :194   ColisÃ£o sem resultado:213491   tomate    : 33447  \n",
       " 1st Qu.:276   plantar               : 19487   besouro   : 30828  \n",
       " Median :290   desenvolvimento       : 18330   pulgao    : 29153  \n",
       " Mean   :302   Novo inseto           : 17707   cigarrinha: 23419  \n",
       " 3rd Qu.:330   colher                : 16785   joaninha  : 16770  \n",
       " Max.   :444   Predacao              : 10280   grilo     : 15633  \n",
       "               (Other)               : 19321   (Other)   :166151  \n",
       "      time          attr1          attr2          attr3          \n",
       " Min.   :   1   Min.   :   0   Min.   :  -1   Min.   :-24999623  \n",
       " 1st Qu.: 332   1st Qu.: 575   1st Qu.: 275   1st Qu.:      175  \n",
       " Median : 754   Median :1134   Median : 525   Median :      326  \n",
       " Mean   :1017   Mean   :1857   Mean   : 668   Mean   :  1384749  \n",
       " 3rd Qu.:1739   3rd Qu.:2503   3rd Qu.: 754   3rd Qu.:  2070287  \n",
       " Max.   :2759   Max.   :7152   Max.   :7150   Max.   :  8300311  \n",
       "                                                                 "
      ]
     },
     "metadata": {},
     "output_type": "display_data"
    },
    {
     "data": {
      "text/plain": [
       "    session                        type               agent       \n",
       " Min.   :194   ColisÃ£o sem resultado:213491   tomate    : 33447  \n",
       " 1st Qu.:276   plantar               : 19487   besouro   : 30828  \n",
       " Median :290   desenvolvimento       : 18330   pulgao    : 29153  \n",
       " Mean   :302   Novo inseto           : 17707   cigarrinha: 23419  \n",
       " 3rd Qu.:330   colher                : 16785   joaninha  : 16770  \n",
       " Max.   :444   Predacao              : 10280   grilo     : 15633  \n",
       "               (Other)               : 19321   (Other)   :166151  \n",
       "      time          attr1          attr2          attr3          \n",
       " Min.   :   1   Min.   :   0   Min.   :  -1   Min.   :-24999623  \n",
       " 1st Qu.: 332   1st Qu.: 575   1st Qu.: 275   1st Qu.:      175  \n",
       " Median : 754   Median :1134   Median : 525   Median :      326  \n",
       " Mean   :1017   Mean   :1857   Mean   : 668   Mean   :  1384749  \n",
       " 3rd Qu.:1739   3rd Qu.:2503   3rd Qu.: 754   3rd Qu.:  2070287  \n",
       " Max.   :2759   Max.   :7152   Max.   :7150   Max.   :  8300311  \n",
       "                                                                 "
      ]
     },
     "metadata": {},
     "output_type": "display_data"
    }
   ],
   "source": [
    "dados$id <- NULL #removendo a coluna id\n",
    "\n",
    "summary(dados)\n",
    "\n",
    "#arrumando atributos categóricos\n",
    "cols = c(\"type\", \"agent\")\n",
    "fac.dados = dados\n",
    "fac.dados[cols] = lapply(dados[cols], factor)\n",
    "summary(fac.dados)\n"
   ]
  },
  {
   "cell_type": "code",
   "execution_count": 21,
   "metadata": {},
   "outputs": [],
   "source": [
    "#filtrando atributos não necessários no momento e tipos de eventos\n",
    "\n",
    "#plantas\n",
    "pop.plant = fac.dados[c(1,2,3,4)] %>% filter((type==\"plantar\"|type==\"Predacao\"|type==\"colher\") & (agent==\"tomate\"|agent==\"milho\"|agent==\"couve\"|agent==\"grama\"))\n",
    "pop.plant = pop.plant[order(pop.plant$session, pop.plant$time),]\n",
    "\n",
    "#pragas  \n",
    "pop.plague = fac.dados[c(1,2,3,4)] %>% filter((type==\"morte\"|type==\"Predacao\"|type==\"Novo inseto\") & (agent==\"grilo\"|agent==\"lagarta\"|agent==\"pulgao\"|agent==\"cigarrinha\"))\n",
    "pop.plague = pop.plague[order(pop.plague$session, pop.plague$time),]\n",
    "\n",
    "#predadores\n",
    "pop.predator = fac.dados[c(1,2,3,4)] %>% filter((type==\"morte\"|type==\"Novo inseto\"|type==\"remover predador\") & (agent==\"besouro\"|agent==\"joaninha\"))\n",
    "pop.predator = pop.predator[order(pop.predator$session, pop.predator$time),]\n",
    "\n",
    "gap = 10\n"
   ]
  },
  {
   "cell_type": "code",
   "execution_count": 22,
   "metadata": {},
   "outputs": [],
   "source": [
    "#funcao cria dataframe\n",
    "create_dataframe <- function(columm, gap) {\n",
    "  df <- data.frame(matrix(ncol = columm, nrow = 0))\n",
    "  n <- seq(1,columm,1)\n",
    "  n[1] = 'session'\n",
    "  for (i in 2:columm) {\n",
    "    n[i] = paste('time',gap*(i-1))\n",
    "  }\n",
    "  names(df) = n\n",
    "  return(df)\n",
    "}\n",
    "\n",
    "#funcao preenche valores NA\n",
    "fill_na <- function(data, rows, datapop) {\n",
    "  for (i in 1:rows) {\n",
    "    start = FALSE\n",
    "    end = datapop %>% filter(session == data[i,1])\n",
    "    end <- ceiling(max(end$time)/gap+1)\n",
    "    for (j in 2:length(data)){\n",
    "      if (j <= end){\n",
    "        if (is.na(data[i,j])){\n",
    "          if (start){\n",
    "            data[i,j] <- data[i, j-1]\n",
    "          }else{\n",
    "            data[i,j] <- 0\n",
    "          }\n",
    "        }else{\n",
    "          start = TRUE\n",
    "        }\n",
    "      }else{\n",
    "        data[i,j] <- 0\n",
    "      }\n",
    "    }\n",
    "  }\n",
    "  return(data)\n",
    "}\n"
   ]
  },
  {
   "cell_type": "code",
   "execution_count": 23,
   "metadata": {},
   "outputs": [],
   "source": [
    "#criando série de população de plantas\n",
    "num_col = floor(max(pop.plant$time)/gap) + 2\n",
    "series.pop.plant <- create_dataframe(num_col, gap)\n",
    "actual_session = 0\n",
    "line = 0\n",
    "total_plant = 0\n",
    "for(i in 1:length(pop.plant$session)){\n",
    "    session <- pop.plant[i,]$session\n",
    "    if(session != actual_session){\n",
    "      line = line + 1\n",
    "      actual_session <- session\n",
    "      total_plant = 0\n",
    "      series.pop.plant[line, 1] <- actual_session\n",
    "    }\n",
    "    if(pop.plant[i,]$type == \"plantar\"){\n",
    "      total_plant = total_plant + 1\n",
    "    }\n",
    "    if(pop.plant[i,]$type == \"Predacao\" || pop.plant[i,]$type == \"colher\"){\n",
    "      total_plant = total_plant - 1\n",
    "    }\n",
    "    col = floor(pop.plant[i,]$time/gap)+2\n",
    "    if(total_plant < 0) total_plant = 0\n",
    "    series.pop.plant[line, col] <- total_plant\n",
    "}\n",
    "series.pop.plant <- fill_na(series.pop.plant, nrow(series.pop.plant), pop.plant)\n",
    "\n",
    "#criando série de população de pragas\n",
    "num_col = floor(max(pop.plague$time)/gap) + 2\n",
    "series.pop.plague <- create_dataframe(num_col, gap)\n",
    "actual_session = 0\n",
    "line = 0\n",
    "total_plague = 0\n",
    "for(i in 1:length(pop.plague$session)){\n",
    "  session <- pop.plague[i,]$session\n",
    "  if(session != actual_session){\n",
    "    line = line + 1\n",
    "    actual_session <- session\n",
    "    total_plague = 0\n",
    "    series.pop.plague[line, 1] <- actual_session\n",
    "  }\n",
    "  if(pop.plague[i,]$type == \"Novo inseto\"){\n",
    "    total_plague = total_plague + 1\n",
    "  }\n",
    "  if(pop.plague[i,]$type == \"Predacao\" || pop.plant[i,]$type == \"morte\"){\n",
    "    total_plague = total_plague - 1\n",
    "  }\n",
    "  col = floor(pop.plague[i,]$time/gap)+2\n",
    "  series.pop.plague[line, col] <- total_plague\n",
    "}\n",
    "series.pop.plague <- fill_na(series.pop.plague, nrow(series.pop.plague), pop.plague)\n",
    "\n",
    "#criando série de população de predadores\n",
    "num_col = floor(max(pop.predator$time)/gap) + 2\n",
    "series.pop.predator <- create_dataframe(num_col, gap)\n",
    "actual_session = 0\n",
    "line = 0\n",
    "total_predator = 0\n",
    "for(i in 1:length(pop.predator$session)){\n",
    "  session <- pop.predator[i,]$session\n",
    "  if(session != actual_session){\n",
    "    line = line + 1\n",
    "    actual_session <- session\n",
    "    total_predator = 0\n",
    "    series.pop.predator[line, 1] <- actual_session\n",
    "  }\n",
    "  if(pop.predator[i,]$type == \"Novo inseto\"){\n",
    "    total_predator = total_predator + 1\n",
    "  }\n",
    "  if(pop.predator[i,]$type == \"morte\" || pop.predator[i,]$type == \"remover predador\"){\n",
    "    total_predator = total_predator - 1\n",
    "  }\n",
    "  col = floor(pop.predator[i,]$time/gap)+2\n",
    "  if(total_predator < 0) total_predator = 0\n",
    "  series.pop.predator[line, col] <- total_predator\n",
    "}\n",
    "series.pop.predator <- fill_na(series.pop.predator, nrow(series.pop.predator), pop.predator)\n"
   ]
  },
  {
   "cell_type": "code",
   "execution_count": 24,
   "metadata": {},
   "outputs": [],
   "source": [
    "###### REALIZANDO AGRUPAMENTO DAS SÉRIES ############\n",
    "\n",
    "#função de agrupamento\n",
    "test_clustering <- function(model, data, opt=FALSE) {\n",
    "  print(class(model)[1])\n",
    "  if (opt) \n",
    "    model <- optimize(model, data)    \n",
    "  clu <- action(model, data)\n",
    "  print(table(clu))\n",
    "  return(clu)\n",
    "}\n"
   ]
  },
  {
   "cell_type": "code",
   "execution_count": 25,
   "metadata": {},
   "outputs": [],
   "source": [
    "return_cluster_comb <- function(data_serie1, data_serie2, data_serie3, sessions, num_k, cols) {\n",
    "  series1 <- data_serie1[,1:cols] %>% filter(session %in% sessions)\n",
    "  series2 <- data_serie2[,1:cols] %>% filter(session %in% sessions)\n",
    "  series3 <- data_serie3[,1:cols] %>% filter(session %in% sessions)\n",
    "  series.pop.comb <- merge(series1, series2, by.x = \"session\", by.y = \"session\")\n",
    "  series.pop.comb <- merge(series.pop.comb, series3, by.x = \"session\", by.y = \"session\")\n",
    "  series.pop.comb$k <- test_clustering(cluster_kmeans(k=num_k), series.pop.comb[,2:length((series.pop.comb))])\n",
    "  return(series.pop.comb)\n",
    "}"
   ]
  },
  {
   "cell_type": "code",
   "execution_count": 26,
   "metadata": {},
   "outputs": [],
   "source": [
    "sessions <- c(211,212,239,240,241,259,260,261,262,263,264,271,272,273,274,275,300,303,305,306,307,308,309,328,330,331,332,333,334,335,336,337,338,339,340,341,342,344\n",
    "              ,345,350,351,352,356,357,373,374,375,381,382,383,384,385,402,403,407,414,416,429)\n"
   ]
  },
  {
   "cell_type": "code",
   "execution_count": 30,
   "metadata": {},
   "outputs": [
    {
     "name": "stdout",
     "output_type": "stream",
     "text": [
      "[1] \"cluster_kmeans\"\n",
      "clu\n",
      " 1  2  3  4 \n",
      "31 14  4  8 \n"
     ]
    }
   ],
   "source": [
    "##Gráfico separado\n",
    "\n",
    "#funcao line cluster comb plots separado\n",
    "line_cluster_sep <- function(data_serie, gap, title1, title2, title3) {\n",
    "  #separando as séries\n",
    "  serie1 <- data_serie[,2:61]\n",
    "  serie1$k <- data_serie$k\n",
    "  serie2 <- data_serie[,62:121]\n",
    "  serie2$k <- data_serie$k\n",
    "  serie3 <- data_serie[,122:181]\n",
    "  serie3$k <- data_serie$k\n",
    "  \n",
    "  #calculando as médias\n",
    "  mean.serie1 <- as.data.frame(serie1 %>% group_by(k)%>% summarise(across(everything(), list(mean))))\n",
    "  mean.serie2 <- as.data.frame(serie2 %>% group_by(k)%>% summarise(across(everything(), list(mean))))\n",
    "  mean.serie3 <- as.data.frame(serie3 %>% group_by(k)%>% summarise(across(everything(), list(mean))))\n",
    "  \n",
    "  #data plot 1\n",
    "  data_plot1 <- melt(mean.serie1, id.vars = c(1))\n",
    "  data_plot1 <- data_plot1[order(data_plot1$k, data_plot1$variable),]\n",
    "  #criando eixo x\n",
    "  data_plot1$x <- seq(from = 10, to = 600, by = gap)\n",
    "  \n",
    "  #data plot 2\n",
    "  data_plot2 <- melt(mean.serie2, id.vars = c(1))\n",
    "  data_plot2 <- data_plot2[order(data_plot2$k, data_plot2$variable),]\n",
    "  #criando eixo x\n",
    "  data_plot2$x <- seq(from = 10, to = 600, by = gap)\n",
    "  \n",
    "  #data plot 3\n",
    "  data_plot3 <- melt(mean.serie3, id.vars = c(1))\n",
    "  data_plot3 <- data_plot3[order(data_plot3$k, data_plot3$variable),]\n",
    "  #criando eixo x\n",
    "  data_plot3$x <- seq(from = 10, to = 600, by = gap)\n",
    "  \n",
    "  #grafico\n",
    "  p1 <- ggplot(data_plot1, aes(x=x, y=value, group=k)) +\n",
    "    geom_hline(yintercept =  10, linetype=\"dashed\", color = \"grey80\", size=.7) + \n",
    "    geom_hline(yintercept =  20, linetype=\"dashed\", color = \"grey80\", size=.7) +\n",
    "    geom_hline(yintercept =  30, linetype=\"dashed\", color = \"grey80\", size=.7) + \n",
    "    geom_hline(yintercept =  40, linetype=\"dashed\", color = \"grey80\", size=.7) +\n",
    "    scale_color_brewer(palette=\"Dark2\")+\n",
    "    geom_line(aes(color=as.factor(k)), size = 1.25) +\n",
    "    #ggtitle(title1)\n",
    "    labs(title=title1,x =\"Time\", y = \"Quantity\", color = \"K\")+\n",
    "    #scale_y_continuous(limits = c(0, 45), breaks = c(15,30), labels = c(\"20\", \"40\")) +\n",
    "    theme(panel.background = element_rect(fill = \"white\", colour = \"grey50\"),\n",
    "        axis.line = element_line(size = 2, colour = \"grey80\"),\n",
    "        axis.ticks.x=element_blank(),\n",
    "        axis.ticks.y=element_blank(),\n",
    "        axis.text=element_text(size=14),\n",
    "        axis.title=element_text(size=14,face=\"bold\"),\n",
    "        legend.text = element_text(size=14))\n",
    "        #legend.position = \"bottom\")\n",
    "  \n",
    "  p2 <- ggplot(data_plot2, aes(x=x, y=value, group=k)) +\n",
    "    geom_hline(yintercept =  20, linetype=\"dashed\", color = \"grey80\", size=.7) + \n",
    "    geom_hline(yintercept =  40, linetype=\"dashed\", color = \"grey80\", size=.7) +\n",
    "    geom_hline(yintercept =  60, linetype=\"dashed\", color = \"grey80\", size=.7) + \n",
    "    geom_hline(yintercept =  80, linetype=\"dashed\", color = \"grey80\", size=.7) +\n",
    "    scale_color_brewer(palette=\"Dark2\")+\n",
    "    geom_line(aes(color=as.factor(k)), size = 1.25) +\n",
    "    #ggtitle(title2)\n",
    "    labs(title=title2,x =\"Time\", y = \"Quantity\", color = \"K\")+\n",
    "    #scale_y_continuous(limits = c(0, 45), breaks = c(15,30), labels = c(\"20\", \"40\")) +\n",
    "    theme(panel.background = element_rect(fill = \"white\", colour = \"grey50\"),\n",
    "          axis.line = element_line(size = 2, colour = \"grey80\"),\n",
    "          axis.ticks.x=element_blank(),\n",
    "          axis.ticks.y=element_blank(),\n",
    "          axis.text=element_text(size=14),\n",
    "          axis.title=element_text(size=14,face=\"bold\"),\n",
    "          legend.text = element_text(size=14))\n",
    "  \n",
    "  \n",
    "  p3 <- ggplot(data_plot3, aes(x=x, y=value, group=k)) +\n",
    "    geom_hline(yintercept =  5, linetype=\"dashed\", color = \"grey80\", size=.7) + \n",
    "    geom_hline(yintercept =  10, linetype=\"dashed\", color = \"grey80\", size=.7) +\n",
    "    scale_color_brewer(palette=\"Dark2\")+\n",
    "    geom_line(aes(color=as.factor(k)), size = 1.25) +\n",
    "    #ggtitle(title3)\n",
    "    labs(title=title3,x =\"Time\", y = \"Quantity\", color = \"K\")+\n",
    "    #scale_y_continuous(limits = c(0, 45), breaks = c(15,30), labels = c(\"20\", \"40\")) +\n",
    "    theme(panel.background = element_rect(fill = \"white\", colour = \"grey50\"),\n",
    "          axis.line = element_line(size = 2, colour = \"grey80\"),\n",
    "          axis.ticks.x=element_blank(),\n",
    "          axis.ticks.y=element_blank(),\n",
    "          axis.text=element_text(size=14),\n",
    "          axis.title=element_text(size=14,face=\"bold\"),\n",
    "          legend.text = element_text(size=14))\n",
    "  \n",
    "  g = grid.arrange(p1, p2, p3, nrow=3)\n",
    "  return(g)\n",
    "}\n",
    "\n",
    "## sessoes do grupo 2 e 4\n",
    "sessions <- c(211,212,239,240,241,259,260,261,262,263,264,271,272,273,274,275,300,303,305,306,307,308,309,328,330,331,332,333,334,335,336,337,338,339,340,341,342,344\n",
    "              ,345,350,351,352,356,357,373,374,375,381,382,383,384,385,402,403,407,414,416,429)\n",
    "\n",
    "set.seed(222)\n",
    "data_serie <- return_cluster_comb(series.pop.plant, series.pop.plague, series.pop.predator, sessions, 4, 61)\n",
    "\n"
   ]
  },
  {
   "cell_type": "code",
   "execution_count": 31,
   "metadata": {},
   "outputs": [
    {
     "name": "stderr",
     "output_type": "stream",
     "text": [
      "`summarise()` ungrouping output (override with `.groups` argument)\n",
      "`summarise()` ungrouping output (override with `.groups` argument)\n",
      "`summarise()` ungrouping output (override with `.groups` argument)\n"
     ]
    },
    {
     "data": {
      "text/plain": [
       "TableGrob (3 x 1) \"arrange\": 3 grobs\n",
       "  z     cells    name           grob\n",
       "1 1 (1-1,1-1) arrange gtable[layout]\n",
       "2 2 (2-2,1-1) arrange gtable[layout]\n",
       "3 3 (3-3,1-1) arrange gtable[layout]"
      ]
     },
     "metadata": {},
     "output_type": "display_data"
    },
    {
     "data": {
      "image/png": "[encoded data removed]",
      "text/plain": [
       "plot without title"
      ]
     },
     "metadata": {},
     "output_type": "display_data"
    }
   ],
   "source": [
    "line_cluster_sep(data_serie, 10, \"Aggregate Plant series with k=4\", \"Aggregate Plague series with k=4\", \"Aggregate Predator series with k=4\")"
   ]
  },
  {
   "cell_type": "code",
   "execution_count": null,
   "metadata": {},
   "outputs": [],
   "source": []
  }
 ],
 "metadata": {
  "kernelspec": {
   "display_name": "R",
   "language": "R",
   "name": "ir"
  },
  "language_info": {
   "codemirror_mode": "r",
   "file_extension": ".r",
   "mimetype": "text/x-r-source",
   "name": "R",
   "pygments_lexer": "r",
   "version": "3.6.1"
  }
 },
 "nbformat": 4,
 "nbformat_minor": 4
}
